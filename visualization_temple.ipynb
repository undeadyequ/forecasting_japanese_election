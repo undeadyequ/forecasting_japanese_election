{
 "cells": [
  {
   "cell_type": "code",
   "execution_count": 204,
   "metadata": {},
   "outputs": [],
   "source": [
    "import matplotlib.pyplot as plt\n",
    "import numpy as np\n",
    "import pandas as pd\n",
    "import json\n",
    "\n",
    "csvdata = pd.read_csv(\"data_election.csv\",delimiter=\",\")\n",
    "csvdata = csvdata.round(2)\n",
    "orig_data = csvdata.drop(['Year', 'LDP_votes', 'PM_approval2'], axis=1)\n",
    "orig_data = orig_data[csvdata['Year'] != 2012]\n",
    "\n",
    "\n",
    "csvdata = pd.read_csv(\"data_election_pred.csv\",delimiter=\",\")\n",
    "csvdata = csvdata.round(2)\n",
    "pred_data = csvdata[csvdata['Year'] != 2012]\n",
    "\n",
    "acc_data = pd.read_csv(\"method_acc1.csv\", delimiter=\",\")\n",
    "acc_data = acc_data.round(2)\n",
    "\n",
    "with open(\"feature_import.json\", \"r\") as f:\n",
    "    feats_import_dict = json.load(f)\n",
    "\n",
    "#gdp = orig_data[:, 0]\n",
    "#dur = orig_data[:, 1]\n",
    "#? = orig_data[:, 2]\n",
    "#seat_gd = orig_data[:, 3]\n",
    "#seat_pred = pred_data[:, 4:6]\n",
    "\n",
    "#mae_rmse = {}\n",
    "\n",
    "    \n",
    "# Suplot of multiple-line (pred, baseline, gd)  (Fig. 4)\n",
    "def shows_gd_pred(pred_data):\n",
    "    \"\"\"\n",
    "    1 figure\n",
    "    \"\"\"\n",
    "    plt.figure()\n",
    "    pred_data = pred_data[[\"Year\", \"LDP_seats\", \"lr\", \"gradient_boost\"]]\n",
    "    #pred_data = pred_data[[\"Year\", \"LDP_seats\", \"lr\",\"dt\",\"rf\",\"bag\",\"adaboost\",\"gradient_boost\"]]\n",
    "    \n",
    "    pred_data.plot(x=\"Year\")\n",
    "    plt.show()\n",
    "\n",
    "    # pred_data.plot(x=\"Year\", y=\"pred_m1\")\n",
    "    # pred_data.plot(x=\"Year\", y=\"pred_m2\")\n",
    "\n",
    "    # x = np.arange(len(seat_gd))\n",
    "    # fig, ax = plt.subplots(figsize=(), layout=\"\")\n",
    "    # pred1 = ax.plot()\n",
    "    # ax.plot(x, seat_gd, color=\"blue\")\n",
    "    # ax.plot(x, seat_pred, color=\"orange\")\n",
    "\n",
    "\n",
    "# suplot of multiple-line of X_Y (Fig. 1)\n",
    "def show_x_y(orig_data):\n",
    "    fig, axs = plt.subplots(1, 3, figsize=(9, 3))\n",
    "    orig_data.plot(x=\"GDP\", y=\"LDP_seats\", kind=\"scatter\", ax=axs[0])\n",
    "    orig_data.plot(x=\"PM_approval\", y=\"LDP_seats\", kind=\"scatter\", ax=axs[1])\n",
    "    orig_data.plot(x=\"DAYS\", y=\"LDP_seats\", kind=\"scatter\", ax=axs[2])\n",
    "    fig.suptitle(\"The scatter plot of each variable and the LDP_seats\")\n",
    "    fig.tight_layout()\n",
    "    plt.show()\n",
    "\n",
    "\n",
    "# Barchar of all performances (Fig. 2,3)\n",
    "def show_bar_el_lr(acc_data):\n",
    "    el_lr = [\"lr\", \"bag_lr\", \"adaboost_lr\"]\n",
    "    plt.figure()\n",
    "    #acc_data = acc_data[[\"train_mae\",\"train_mae_var\",\"test_mae\",\"test_mae_var\",\n",
    "    #                     \"train_mae\",\"train_mae_var\",\"test_mae\",\"test_mae_var\"]]\n",
    "    acc_data = acc_data[acc_data[\"Unnamed: 0\"].isin(el_lr)]\n",
    "    acc_data = acc_data[[\"test_mae\",\"test_rmse\"]]\n",
    "    ax = acc_data.plot(kind='barh')\n",
    "    ax.invert_yaxis()\n",
    "    #ax = acc_data.plot(kind='bar') \n",
    "    ax.set_yticklabels([\"lr\", \"bag_lr\", \"adaboost_lr\"])\n",
    "    ax.margins(x=0.2)\n",
    "    for container in ax.containers:\n",
    "        ax.bar_label(container)    \n",
    "    #ax.legend(loc=\"best\", bbox_to_anchor = (1, 1.2))\n",
    "    ax.legend(loc=1)\n",
    "    plt.show()\n",
    "    \n",
    "def show_bar_el_dt(acc_data):\n",
    "    el_lr = [\"lr\", \"dt\", \"rf\", \"bag_dt\", \"adaboost_dt\", \"gradient_boost\"]\n",
    "    plt.figure()\n",
    "    #acc_data = acc_data[[\"train_mae\",\"train_mae_var\",\"test_mae\",\"test_mae_var\",\n",
    "    #                     \"train_mae\",\"train_mae_var\",\"test_mae\",\"test_mae_var\"]]\n",
    "    acc_data = acc_data[acc_data[\"Unnamed: 0\"].isin(el_lr)]\n",
    "    acc_data = acc_data[[\"test_mae\",\"test_rmse\"]]\n",
    "    ax = acc_data.plot(kind=\"barh\")\n",
    "    ax.invert_yaxis()\n",
    "    ax.margins(x=0.2)\n",
    "    ax.set_yticklabels([\"lr\", \"dt\", \"rf\", \"bag_dt\", \"adaboost_dt\", \"gradient_boost\"])\n",
    "    for container in ax.containers:\n",
    "        ax.bar_label(container)  \n",
    "    #ax.legend(loc=4, bbox_to_anchor = (1, 1))\n",
    "    ax.legend(loc=4)\n",
    "    plt.show()\n",
    "\n",
    "\n",
    "def feature_importance(feats_import_dict):\n",
    "    el_lr = [\"bag_dt\",\"gradient_boost\"]\n",
    "    fig, axs = plt.subplots(2, 2, figsize=(6, 6))\n",
    "    data={\"bag_dt\": [j for sub in feats_import_dict[\"bag_dt\"] for j in sub],\n",
    "          \"gradient_boost\": [j for sub in feats_import_dict[\"gradient_boost\"] for j in sub],\n",
    "          \"Variable\": list(30 * \"G\") + list(30 * \"P\") + list(30 * \"D\")}\n",
    "    data1={\"GDP\": feats_import_dict[\"bag_dt\"][0] + feats_import_dict[\"gradient_boost\"][0],\n",
    "            \"PM_approval\": feats_import_dict[\"bag_dt\"][1] + feats_import_dict[\"gradient_boost\"][1],\n",
    "            \"DAYS\": feats_import_dict[\"bag_dt\"][2] + feats_import_dict[\"gradient_boost\"][2],\n",
    "            \"Variable\": list(30 * \"A\") + list(30 * \"G\")}\n",
    "    \n",
    "    df = pd.DataFrame(data=data)\n",
    "    for i, el in enumerate(list(df.columns.values[:-1])):\n",
    "        a = df.boxplot(el, by=\"Variable\", ax=axs.flatten()[i])\n",
    "    fig.delaxes(axs[1, 0])\n",
    "    fig.delaxes(axs[1, 1])\n",
    "    plt.tight_layout()\n",
    "    plt.show()"
   ]
  },
  {
   "cell_type": "code",
   "execution_count": 205,
   "metadata": {},
   "outputs": [
    {
     "data": {
      "text/html": [
       "<div>\n",
       "<style scoped>\n",
       "    .dataframe tbody tr th:only-of-type {\n",
       "        vertical-align: middle;\n",
       "    }\n",
       "\n",
       "    .dataframe tbody tr th {\n",
       "        vertical-align: top;\n",
       "    }\n",
       "\n",
       "    .dataframe thead th {\n",
       "        text-align: right;\n",
       "    }\n",
       "</style>\n",
       "<table border=\"1\" class=\"dataframe\">\n",
       "  <thead>\n",
       "    <tr style=\"text-align: right;\">\n",
       "      <th></th>\n",
       "      <th>LDP_seats</th>\n",
       "      <th>GDP</th>\n",
       "      <th>PM_approval</th>\n",
       "      <th>DAYS</th>\n",
       "    </tr>\n",
       "  </thead>\n",
       "  <tbody>\n",
       "    <tr>\n",
       "      <th>count</th>\n",
       "      <td>19.000000</td>\n",
       "      <td>19.000000</td>\n",
       "      <td>19.000000</td>\n",
       "      <td>19.000000</td>\n",
       "    </tr>\n",
       "    <tr>\n",
       "      <th>mean</th>\n",
       "      <td>52.989474</td>\n",
       "      <td>4.266316</td>\n",
       "      <td>36.115789</td>\n",
       "      <td>1078.894737</td>\n",
       "    </tr>\n",
       "    <tr>\n",
       "      <th>std</th>\n",
       "      <td>9.007768</td>\n",
       "      <td>3.727369</td>\n",
       "      <td>9.600941</td>\n",
       "      <td>291.759965</td>\n",
       "    </tr>\n",
       "    <tr>\n",
       "      <th>min</th>\n",
       "      <td>24.800000</td>\n",
       "      <td>-1.090000</td>\n",
       "      <td>16.300000</td>\n",
       "      <td>259.000000</td>\n",
       "    </tr>\n",
       "    <tr>\n",
       "      <th>25%</th>\n",
       "      <td>48.600000</td>\n",
       "      <td>1.515000</td>\n",
       "      <td>29.300000</td>\n",
       "      <td>983.500000</td>\n",
       "    </tr>\n",
       "    <tr>\n",
       "      <th>50%</th>\n",
       "      <td>55.200000</td>\n",
       "      <td>3.380000</td>\n",
       "      <td>37.900000</td>\n",
       "      <td>1096.000000</td>\n",
       "    </tr>\n",
       "    <tr>\n",
       "      <th>75%</th>\n",
       "      <td>59.850000</td>\n",
       "      <td>5.905000</td>\n",
       "      <td>41.700000</td>\n",
       "      <td>1260.000000</td>\n",
       "    </tr>\n",
       "    <tr>\n",
       "      <th>max</th>\n",
       "      <td>63.400000</td>\n",
       "      <td>11.910000</td>\n",
       "      <td>54.800000</td>\n",
       "      <td>1456.000000</td>\n",
       "    </tr>\n",
       "  </tbody>\n",
       "</table>\n",
       "</div>"
      ],
      "text/plain": [
       "       LDP_seats        GDP  PM_approval         DAYS\n",
       "count  19.000000  19.000000    19.000000    19.000000\n",
       "mean   52.989474   4.266316    36.115789  1078.894737\n",
       "std     9.007768   3.727369     9.600941   291.759965\n",
       "min    24.800000  -1.090000    16.300000   259.000000\n",
       "25%    48.600000   1.515000    29.300000   983.500000\n",
       "50%    55.200000   3.380000    37.900000  1096.000000\n",
       "75%    59.850000   5.905000    41.700000  1260.000000\n",
       "max    63.400000  11.910000    54.800000  1456.000000"
      ]
     },
     "execution_count": 205,
     "metadata": {},
     "output_type": "execute_result"
    }
   ],
   "source": [
    "# figure 0 (exploration)\n",
    "orig_data\n",
    "orig_data.describe()"
   ]
  },
  {
   "cell_type": "code",
   "execution_count": 206,
   "metadata": {},
   "outputs": [
    {
     "name": "stderr",
     "output_type": "stream",
     "text": [
      "/Users/luoxuan/miniconda3/envs/ml/lib/python3.7/site-packages/pandas/plotting/_matplotlib/tools.py:331: MatplotlibDeprecationWarning: \n",
      "The is_first_col function was deprecated in Matplotlib 3.4 and will be removed two minor releases later. Use ax.get_subplotspec().is_first_col() instead.\n",
      "  if ax.is_first_col():\n"
     ]
    },
    {
     "data": {
      "image/png": "[encoded data removed]",
      "text/plain": [
       "<Figure size 648x216 with 3 Axes>"
      ]
     },
     "metadata": {
      "needs_background": "light"
     },
     "output_type": "display_data"
    }
   ],
   "source": [
    "# Figure 1\n",
    "show_x_y(orig_data)"
   ]
  },
  {
   "cell_type": "code",
   "execution_count": 207,
   "metadata": {},
   "outputs": [
    {
     "data": {
      "text/html": [
       "<div>\n",
       "<style scoped>\n",
       "    .dataframe tbody tr th:only-of-type {\n",
       "        vertical-align: middle;\n",
       "    }\n",
       "\n",
       "    .dataframe tbody tr th {\n",
       "        vertical-align: top;\n",
       "    }\n",
       "\n",
       "    .dataframe thead th {\n",
       "        text-align: right;\n",
       "    }\n",
       "</style>\n",
       "<table border=\"1\" class=\"dataframe\">\n",
       "  <thead>\n",
       "    <tr style=\"text-align: right;\">\n",
       "      <th></th>\n",
       "      <th>Unnamed: 0</th>\n",
       "      <th>train_mae</th>\n",
       "      <th>train_mae_var</th>\n",
       "      <th>train_rmse</th>\n",
       "      <th>train_rmse_var</th>\n",
       "      <th>test_mae</th>\n",
       "      <th>test_mae_var</th>\n",
       "      <th>test_rmse</th>\n",
       "      <th>test_rmse_var</th>\n",
       "      <th>imp_Days_mean</th>\n",
       "      <th>imp_Days_std</th>\n",
       "      <th>imp_GDP_mean</th>\n",
       "      <th>imp_GDP_std</th>\n",
       "      <th>imp_approval_mean</th>\n",
       "      <th>imp_approval_std</th>\n",
       "    </tr>\n",
       "  </thead>\n",
       "  <tbody>\n",
       "    <tr>\n",
       "      <th>0</th>\n",
       "      <td>lr</td>\n",
       "      <td>3.82</td>\n",
       "      <td>0.49</td>\n",
       "      <td>4.75</td>\n",
       "      <td>0.67</td>\n",
       "      <td>5.38</td>\n",
       "      <td>2.10</td>\n",
       "      <td>6.62</td>\n",
       "      <td>2.52</td>\n",
       "      <td>0.20</td>\n",
       "      <td>0.16</td>\n",
       "      <td>0.25</td>\n",
       "      <td>0.21</td>\n",
       "      <td>0.57</td>\n",
       "      <td>0.42</td>\n",
       "    </tr>\n",
       "    <tr>\n",
       "      <th>1</th>\n",
       "      <td>dt</td>\n",
       "      <td>2.11</td>\n",
       "      <td>0.63</td>\n",
       "      <td>2.77</td>\n",
       "      <td>0.76</td>\n",
       "      <td>4.84</td>\n",
       "      <td>2.12</td>\n",
       "      <td>6.07</td>\n",
       "      <td>2.95</td>\n",
       "      <td>1.63</td>\n",
       "      <td>1.17</td>\n",
       "      <td>0.00</td>\n",
       "      <td>0.00</td>\n",
       "      <td>0.00</td>\n",
       "      <td>0.00</td>\n",
       "    </tr>\n",
       "    <tr>\n",
       "      <th>2</th>\n",
       "      <td>rf</td>\n",
       "      <td>3.04</td>\n",
       "      <td>0.45</td>\n",
       "      <td>4.58</td>\n",
       "      <td>1.00</td>\n",
       "      <td>4.75</td>\n",
       "      <td>1.71</td>\n",
       "      <td>6.00</td>\n",
       "      <td>2.74</td>\n",
       "      <td>0.65</td>\n",
       "      <td>0.44</td>\n",
       "      <td>0.00</td>\n",
       "      <td>0.04</td>\n",
       "      <td>0.56</td>\n",
       "      <td>0.32</td>\n",
       "    </tr>\n",
       "    <tr>\n",
       "      <th>3</th>\n",
       "      <td>bag_lr</td>\n",
       "      <td>3.80</td>\n",
       "      <td>0.47</td>\n",
       "      <td>4.80</td>\n",
       "      <td>0.67</td>\n",
       "      <td>5.21</td>\n",
       "      <td>1.93</td>\n",
       "      <td>6.39</td>\n",
       "      <td>2.34</td>\n",
       "      <td>0.26</td>\n",
       "      <td>0.19</td>\n",
       "      <td>0.25</td>\n",
       "      <td>0.21</td>\n",
       "      <td>0.48</td>\n",
       "      <td>0.34</td>\n",
       "    </tr>\n",
       "    <tr>\n",
       "      <th>4</th>\n",
       "      <td>bag_dt</td>\n",
       "      <td>2.27</td>\n",
       "      <td>0.31</td>\n",
       "      <td>3.18</td>\n",
       "      <td>0.59</td>\n",
       "      <td>4.74</td>\n",
       "      <td>1.63</td>\n",
       "      <td>6.07</td>\n",
       "      <td>2.57</td>\n",
       "      <td>0.47</td>\n",
       "      <td>0.29</td>\n",
       "      <td>0.16</td>\n",
       "      <td>0.09</td>\n",
       "      <td>0.24</td>\n",
       "      <td>0.15</td>\n",
       "    </tr>\n",
       "    <tr>\n",
       "      <th>5</th>\n",
       "      <td>adaboost_lr</td>\n",
       "      <td>3.60</td>\n",
       "      <td>0.72</td>\n",
       "      <td>4.43</td>\n",
       "      <td>1.01</td>\n",
       "      <td>6.12</td>\n",
       "      <td>2.39</td>\n",
       "      <td>7.33</td>\n",
       "      <td>2.86</td>\n",
       "      <td>0.09</td>\n",
       "      <td>0.09</td>\n",
       "      <td>-0.07</td>\n",
       "      <td>0.05</td>\n",
       "      <td>1.14</td>\n",
       "      <td>0.50</td>\n",
       "    </tr>\n",
       "    <tr>\n",
       "      <th>6</th>\n",
       "      <td>adaboost_dt</td>\n",
       "      <td>1.28</td>\n",
       "      <td>0.75</td>\n",
       "      <td>2.25</td>\n",
       "      <td>1.03</td>\n",
       "      <td>5.47</td>\n",
       "      <td>2.37</td>\n",
       "      <td>7.39</td>\n",
       "      <td>3.80</td>\n",
       "      <td>1.00</td>\n",
       "      <td>0.75</td>\n",
       "      <td>-0.00</td>\n",
       "      <td>0.00</td>\n",
       "      <td>0.82</td>\n",
       "      <td>0.67</td>\n",
       "    </tr>\n",
       "    <tr>\n",
       "      <th>7</th>\n",
       "      <td>gradient_boost</td>\n",
       "      <td>1.57</td>\n",
       "      <td>0.52</td>\n",
       "      <td>4.44</td>\n",
       "      <td>1.60</td>\n",
       "      <td>4.67</td>\n",
       "      <td>1.61</td>\n",
       "      <td>5.92</td>\n",
       "      <td>2.45</td>\n",
       "      <td>0.61</td>\n",
       "      <td>0.37</td>\n",
       "      <td>0.32</td>\n",
       "      <td>0.25</td>\n",
       "      <td>0.04</td>\n",
       "      <td>0.11</td>\n",
       "    </tr>\n",
       "  </tbody>\n",
       "</table>\n",
       "</div>"
      ],
      "text/plain": [
       "       Unnamed: 0  train_mae  train_mae_var  train_rmse  train_rmse_var  \\\n",
       "0              lr       3.82           0.49        4.75            0.67   \n",
       "1              dt       2.11           0.63        2.77            0.76   \n",
       "2              rf       3.04           0.45        4.58            1.00   \n",
       "3          bag_lr       3.80           0.47        4.80            0.67   \n",
       "4          bag_dt       2.27           0.31        3.18            0.59   \n",
       "5     adaboost_lr       3.60           0.72        4.43            1.01   \n",
       "6     adaboost_dt       1.28           0.75        2.25            1.03   \n",
       "7  gradient_boost       1.57           0.52        4.44            1.60   \n",
       "\n",
       "   test_mae  test_mae_var  test_rmse  test_rmse_var  imp_Days_mean  \\\n",
       "0      5.38          2.10       6.62           2.52           0.20   \n",
       "1      4.84          2.12       6.07           2.95           1.63   \n",
       "2      4.75          1.71       6.00           2.74           0.65   \n",
       "3      5.21          1.93       6.39           2.34           0.26   \n",
       "4      4.74          1.63       6.07           2.57           0.47   \n",
       "5      6.12          2.39       7.33           2.86           0.09   \n",
       "6      5.47          2.37       7.39           3.80           1.00   \n",
       "7      4.67          1.61       5.92           2.45           0.61   \n",
       "\n",
       "   imp_Days_std  imp_GDP_mean  imp_GDP_std  imp_approval_mean  \\\n",
       "0          0.16          0.25         0.21               0.57   \n",
       "1          1.17          0.00         0.00               0.00   \n",
       "2          0.44          0.00         0.04               0.56   \n",
       "3          0.19          0.25         0.21               0.48   \n",
       "4          0.29          0.16         0.09               0.24   \n",
       "5          0.09         -0.07         0.05               1.14   \n",
       "6          0.75         -0.00         0.00               0.82   \n",
       "7          0.37          0.32         0.25               0.04   \n",
       "\n",
       "   imp_approval_std  \n",
       "0              0.42  \n",
       "1              0.00  \n",
       "2              0.32  \n",
       "3              0.34  \n",
       "4              0.15  \n",
       "5              0.50  \n",
       "6              0.67  \n",
       "7              0.11  "
      ]
     },
     "execution_count": 207,
     "metadata": {},
     "output_type": "execute_result"
    }
   ],
   "source": [
    "acc_data"
   ]
  },
  {
   "cell_type": "code",
   "execution_count": 208,
   "metadata": {},
   "outputs": [
    {
     "data": {
      "text/plain": [
       "<Figure size 432x288 with 0 Axes>"
      ]
     },
     "metadata": {},
     "output_type": "display_data"
    },
    {
     "data": {
      "image/png": "[encoded data removed]",
      "text/plain": [
       "<Figure size 432x288 with 1 Axes>"
      ]
     },
     "metadata": {
      "needs_background": "light"
     },
     "output_type": "display_data"
    }
   ],
   "source": [
    "# Table 2 and figure 2 (Linear ensembled)\n",
    "show_bar_el_lr(acc_data)"
   ]
  },
  {
   "cell_type": "code",
   "execution_count": 209,
   "metadata": {},
   "outputs": [
    {
     "data": {
      "text/plain": [
       "<Figure size 432x288 with 0 Axes>"
      ]
     },
     "metadata": {},
     "output_type": "display_data"
    },
    {
     "data": {
      "image/png": "[encoded data removed]",
      "text/plain": [
       "<Figure size 432x288 with 1 Axes>"
      ]
     },
     "metadata": {
      "needs_background": "light"
     },
     "output_type": "display_data"
    }
   ],
   "source": [
    "# Table 3 and figure 3 (Non linear ensembled)\n",
    "show_bar_el_dt(acc_data)"
   ]
  },
  {
   "cell_type": "code",
   "execution_count": 168,
   "metadata": {},
   "outputs": [
    {
     "data": {
      "text/plain": [
       "<Figure size 432x288 with 0 Axes>"
      ]
     },
     "metadata": {},
     "output_type": "display_data"
    },
    {
     "data": {
      "image/png": "[encoded data removed]",
      "text/plain": [
       "<Figure size 432x288 with 1 Axes>"
      ]
     },
     "metadata": {
      "needs_background": "light"
     },
     "output_type": "display_data"
    }
   ],
   "source": [
    "# Fig. 4 (Best non-linear ensemble, LBT, Ground)\n",
    "shows_gd_pred(pred_data)"
   ]
  },
  {
   "cell_type": "code",
   "execution_count": 334,
   "metadata": {},
   "outputs": [
    {
     "data": {
      "text/plain": [
       "30"
      ]
     },
     "execution_count": 334,
     "metadata": {},
     "output_type": "execute_result"
    }
   ],
   "source": [
    "len(feats_import_dict[\"lr\"][0])"
   ]
  },
  {
   "cell_type": "code",
   "execution_count": 335,
   "metadata": {},
   "outputs": [
    {
     "data": {
      "image/png": "[encoded data removed]",
      "text/plain": [
       "<Figure size 432x432 with 2 Axes>"
      ]
     },
     "metadata": {
      "needs_background": "light"
     },
     "output_type": "display_data"
    }
   ],
   "source": [
    "# Figure 5 (boxplot of feature imporantance)\n",
    "\n",
    "feature_importance(feats_import_dict)"
   ]
  },
  {
   "cell_type": "code",
   "execution_count": null,
   "metadata": {},
   "outputs": [],
   "source": []
  },
  {
   "cell_type": "code",
   "execution_count": null,
   "metadata": {},
   "outputs": [],
   "source": []
  },
  {
   "cell_type": "code",
   "execution_count": null,
   "metadata": {},
   "outputs": [],
   "source": []
  }
 ],
 "metadata": {
  "kernelspec": {
   "display_name": "Python 3",
   "language": "python",
   "name": "python3"
  },
  "language_info": {
   "codemirror_mode": {
    "name": "ipython",
    "version": 3
   },
   "file_extension": ".py",
   "mimetype": "text/x-python",
   "name": "python",
   "nbconvert_exporter": "python",
   "pygments_lexer": "ipython3",
   "version": "3.7.9"
  }
 },
 "nbformat": 4,
 "nbformat_minor": 4
}
